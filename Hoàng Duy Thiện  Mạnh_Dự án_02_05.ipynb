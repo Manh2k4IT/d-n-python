{
 "cells": [
  {
   "cell_type": "markdown",
   "id": "470b060b",
   "metadata": {},
   "source": [
    "# Người thực hiện: Hoàng Duy Thiện Mạnh\n",
   
    "# Mục tiêu chung:\n",
    "Xây dựng một mô hình dự đoán sự ảnh hưởng của các yếu tố đến doanh thu của doanh nghiệp\n",
    "# Câu hỏi :\n",
    "1. Công ty nên phân bổ ngân sách tiếp thị hạn chế của mình cho năm tới như thế nào?\n",
    "2. Công ty nên tập trung vào hình mẫu người ảnh hưởng nào?\n",
    "3. Công ty có thể cắt giảm ngân sách về TV vì nó chiếm nhiều chi phí nhất?\n",
    "\n",
    "# Quy trình thực hiện\n",
    "1. Khai báo sử dụng các thư viện cần thiết\n",
    "\n",
    "2. Tải dữ liệu , trực quan hóa và khám phá\n",
    "\n",
    "3. Làm sạch dữ liệu\n",
    "\n",
    "4. Xử lý các giá trị ngoại lai Chuẩn hóa các biến nhằm khắc phục ảnh hưởng do khác biệt về thang đo\n",
    "\n",
    "5. Chia tập dữ liệu thành tập huấn luyện và kiểm tra\n",
    "\n",
    "6. Xác định và ước tính mô hình hồi quy tuyến tính bằng cách sử dụng tập dữ liệu huấn luyện với các biến độc lập và 01 biến phụ thuộ\n",
    "\n",
    "7. Đánh giá hiệu quả của mô hình bằng cách sử dụng tập dữ liệu kiểm tra, sử dụng các số liệu như R bình thường trung bình\n",
    "\n",
    "8. Giải thích các kết quả của mô hình hồi quy, bao gồm các ước tính hệ số và ý nghĩa của chúng\n",
    "\n",
    "9. Trực quan hóa đường hồi quy và biểu đồ phân tán của dữ liệu kiểm tra.\n",
    "\n",
    "10. Sử dụng mô hình để đáp ứng các mục tiêu đặt ra."
   ]
  },
  {
   "cell_type": "markdown",
   "id": "e0554cfb",
   "metadata": {},
   "source": [
    "# 1. Khai báo các thư viện cần thiết"
   ]
  },
  {
   "cell_type": "code",
   "execution_count": 1,
   "id": "16081ef1",
   "metadata": {},
   "outputs": [],
   "source": [
    "import matplotlib.pyplot as plt\n",
    "import pandas as pd\n",
    "import numpy as np\n",
    "import seaborn as sns\n",
    "import missingno as msno\n",
    "pd.options.display.float_format = '{:,.3f}'.format\n",
    "from sklearn.preprocessing import PolynomialFeatures\n",
    "from sklearn.preprocessing import StandardScaler\n",
    "from sklearn.model_selection import train_test_split\n",
    "from sklearn.linear_model import LinearRegression\n",
    "from sklearn.metrics import r2_score, mean_absolute_error, mean_squared_error\n",
    "from math import sqrt\n"
   ]
  },
  {
   "cell_type": "markdown",
   "id": "b1a62f1d",
   "metadata": {},
   "source": [
    "# 2. Tải dữ liệu, trực quan và khám phá"
   ]
  },
  {
   "cell_type": "code",
   "execution_count": 2,
   "id": "f46a823e",
   "metadata": {},
   "outputs": [
    {
     "data": {
      "text/html": [
       "<div>\n",
       "<style scoped>\n",
       "    .dataframe tbody tr th:only-of-type {\n",
       "        vertical-align: middle;\n",
       "    }\n",
       "\n",
       "    .dataframe tbody tr th {\n",
       "        vertical-align: top;\n",
       "    }\n",
       "\n",
       "    .dataframe thead th {\n",
       "        text-align: right;\n",
       "    }\n",
       "</style>\n",
       "<table border=\"1\" class=\"dataframe\">\n",
       "  <thead>\n",
       "    <tr style=\"text-align: right;\">\n",
       "      <th></th>\n",
       "      <th>Unnamed: 0</th>\n",
       "      <th>TV</th>\n",
       "      <th>Radio</th>\n",
       "      <th>Social Media</th>\n",
       "      <th>Influencer</th>\n",
       "      <th>Sales</th>\n",
       "    </tr>\n",
       "  </thead>\n",
       "  <tbody>\n",
       "    <tr>\n",
       "      <th>0</th>\n",
       "      <td>0</td>\n",
       "      <td>16.000</td>\n",
       "      <td>6.566</td>\n",
       "      <td>2.908</td>\n",
       "      <td>Thuy Tien</td>\n",
       "      <td>54.733</td>\n",
       "    </tr>\n",
       "    <tr>\n",
       "      <th>1</th>\n",
       "      <td>1</td>\n",
       "      <td>13.000</td>\n",
       "      <td>9.238</td>\n",
       "      <td>2.410</td>\n",
       "      <td>Thuy Tien</td>\n",
       "      <td>46.678</td>\n",
       "    </tr>\n",
       "    <tr>\n",
       "      <th>2</th>\n",
       "      <td>2</td>\n",
       "      <td>41.000</td>\n",
       "      <td>15.886</td>\n",
       "      <td>2.913</td>\n",
       "      <td>Thuy Tien</td>\n",
       "      <td>150.178</td>\n",
       "    </tr>\n",
       "    <tr>\n",
       "      <th>3</th>\n",
       "      <td>3</td>\n",
       "      <td>83.000</td>\n",
       "      <td>30.020</td>\n",
       "      <td>6.922</td>\n",
       "      <td>Thuy Tien</td>\n",
       "      <td>298.246</td>\n",
       "    </tr>\n",
       "    <tr>\n",
       "      <th>4</th>\n",
       "      <td>4</td>\n",
       "      <td>15.000</td>\n",
       "      <td>8.437</td>\n",
       "      <td>1.406</td>\n",
       "      <td>Thuy Linh</td>\n",
       "      <td>56.594</td>\n",
       "    </tr>\n",
       "  </tbody>\n",
       "</table>\n",
       "</div>"
      ],
      "text/plain": [
       "   Unnamed: 0     TV  Radio  Social Media Influencer   Sales\n",
       "0           0 16.000  6.566         2.908  Thuy Tien  54.733\n",
       "1           1 13.000  9.238         2.410  Thuy Tien  46.678\n",
       "2           2 41.000 15.886         2.913  Thuy Tien 150.178\n",
       "3           3 83.000 30.020         6.922  Thuy Tien 298.246\n",
       "4           4 15.000  8.437         1.406  Thuy Linh  56.594"
      ]
     },
     "execution_count": 2,
     "metadata": {},
     "output_type": "execute_result"
    }
   ],
   "source": [
    "df = pd.read_csv(\"advertising with MISSES.csv\")\n",
    "df.head()"
   ]
  },
  {
   "cell_type": "code",
   "execution_count": 3,
   "id": "5a6fa435",
   "metadata": {},
   "outputs": [
    {
     "data": {
      "text/html": [
       "<div>\n",
       "<style scoped>\n",
       "    .dataframe tbody tr th:only-of-type {\n",
       "        vertical-align: middle;\n",
       "    }\n",
       "\n",
       "    .dataframe tbody tr th {\n",
       "        vertical-align: top;\n",
       "    }\n",
       "\n",
       "    .dataframe thead th {\n",
       "        text-align: right;\n",
       "    }\n",
       "</style>\n",
       "<table border=\"1\" class=\"dataframe\">\n",
       "  <thead>\n",
       "    <tr style=\"text-align: right;\">\n",
       "      <th></th>\n",
       "      <th>TV</th>\n",
       "      <th>Radio</th>\n",
       "      <th>Social Media</th>\n",
       "      <th>Influencer</th>\n",
       "      <th>Sales</th>\n",
       "    </tr>\n",
       "  </thead>\n",
       "  <tbody>\n",
       "    <tr>\n",
       "      <th>0</th>\n",
       "      <td>16.000</td>\n",
       "      <td>6.566</td>\n",
       "      <td>2.908</td>\n",
       "      <td>Thuy Tien</td>\n",
       "      <td>54.733</td>\n",
       "    </tr>\n",
       "    <tr>\n",
       "      <th>1</th>\n",
       "      <td>13.000</td>\n",
       "      <td>9.238</td>\n",
       "      <td>2.410</td>\n",
       "      <td>Thuy Tien</td>\n",
       "      <td>46.678</td>\n",
       "    </tr>\n",
       "    <tr>\n",
       "      <th>2</th>\n",
       "      <td>41.000</td>\n",
       "      <td>15.886</td>\n",
       "      <td>2.913</td>\n",
       "      <td>Thuy Tien</td>\n",
       "      <td>150.178</td>\n",
       "    </tr>\n",
       "    <tr>\n",
       "      <th>3</th>\n",
       "      <td>83.000</td>\n",
       "      <td>30.020</td>\n",
       "      <td>6.922</td>\n",
       "      <td>Thuy Tien</td>\n",
       "      <td>298.246</td>\n",
       "    </tr>\n",
       "    <tr>\n",
       "      <th>4</th>\n",
       "      <td>15.000</td>\n",
       "      <td>8.437</td>\n",
       "      <td>1.406</td>\n",
       "      <td>Thuy Linh</td>\n",
       "      <td>56.594</td>\n",
       "    </tr>\n",
       "  </tbody>\n",
       "</table>\n",
       "</div>"
      ],
      "text/plain": [
       "      TV  Radio  Social Media Influencer   Sales\n",
       "0 16.000  6.566         2.908  Thuy Tien  54.733\n",
       "1 13.000  9.238         2.410  Thuy Tien  46.678\n",
       "2 41.000 15.886         2.913  Thuy Tien 150.178\n",
       "3 83.000 30.020         6.922  Thuy Tien 298.246\n",
       "4 15.000  8.437         1.406  Thuy Linh  56.594"
      ]
     },
     "execution_count": 3,
     "metadata": {},
     "output_type": "execute_result"
    }
   ],
   "source": [
    "df= df.drop(columns=[\"Unnamed: 0\"])   \n",
    "df.head()"
   ]
  },
  {
   "cell_type": "code",
   "execution_count": 4,
   "id": "3f76c8ba",
   "metadata": {},
   "outputs": [
    {
     "name": "stdout",
     "output_type": "stream",
     "text": [
      "<class 'pandas.core.frame.DataFrame'>\n",
      "RangeIndex: 4572 entries, 0 to 4571\n",
      "Data columns (total 5 columns):\n",
      " #   Column        Non-Null Count  Dtype  \n",
      "---  ------        --------------  -----  \n",
      " 0   TV            4562 non-null   float64\n",
      " 1   Radio         4568 non-null   float64\n",
      " 2   Social Media  4566 non-null   float64\n",
      " 3   Influencer    4572 non-null   object \n",
      " 4   Sales         4566 non-null   float64\n",
      "dtypes: float64(4), object(1)\n",
      "memory usage: 178.7+ KB\n"
     ]
    }
   ],
   "source": [
    "df.info()"
   ]
  },
  {
   "cell_type": "markdown",
   "id": "b7ac4c70",
   "metadata": {},
   "source": [
    "# 3. Làm sạch dữ liệu"
   ]
  },
  {
   "cell_type": "code",
   "execution_count": 5,
   "id": "dae0a919",
   "metadata": {},
   "outputs": [
    {
     "data": {
      "text/plain": [
       "TV              10\n",
       "Radio            4\n",
       "Social Media     6\n",
       "Influencer       0\n",
       "Sales            6\n",
       "dtype: int64"
      ]
     },
     "execution_count": 5,
     "metadata": {},
     "output_type": "execute_result"
    }
   ],
   "source": [
    "df.isna().sum()"
   ]
  },
  {
   "cell_type": "code",
   "execution_count": 6,
   "id": "03275940",
   "metadata": {},
   "outputs": [
    {
     "data": {
      "text/plain": [
       "<AxesSubplot:>"
      ]
     },
     "execution_count": 6,
     "metadata": {},
     "output_type": "execute_result"
    },
    {
     "data": {
      "image/png": "[encoded data removed]",
      "text/plain": [
       "<Figure size 864x360 with 2 Axes>"
      ]
     },
     "metadata": {
      "needs_background": "light"
     },
     "output_type": "display_data"
    }
   ],
   "source": [
    "msno.matrix(df, figsize= (12,5))"
   ]
  },
  {
   "cell_type": "code",
   "execution_count": 7,
   "id": "2a82f54f",
   "metadata": {},
   "outputs": [
    {
     "data": {
      "text/plain": [
       "<AxesSubplot:>"
      ]
     },
     "execution_count": 7,
     "metadata": {},
     "output_type": "execute_result"
    },
    {
     "data": {
      "image/png": "[encoded data removed]",
      "text/plain": [
       "<Figure size 576x288 with 3 Axes>"
      ]
     },
     "metadata": {
      "needs_background": "light"
     },
     "output_type": "display_data"
    }
   ],
   "source": [
    "msno.bar(df, figsize= (8,4))"
   ]
  },
  {
   "cell_type": "code",
   "execution_count": 8,
   "id": "c42f6659",
   "metadata": {},
   "outputs": [
    {
     "data": {
      "text/plain": [
       "(4572, 5)"
      ]
     },
     "execution_count": 8,
     "metadata": {},
     "output_type": "execute_result"
    }
   ],
   "source": [
    "df.shape"
   ]
  },
  {
   "cell_type": "code",
   "execution_count": 9,
   "id": "4f9a1493",
   "metadata": {},
   "outputs": [
    {
     "data": {
      "text/html": [
       "<div>\n",
       "<style scoped>\n",
       "    .dataframe tbody tr th:only-of-type {\n",
       "        vertical-align: middle;\n",
       "    }\n",
       "\n",
       "    .dataframe tbody tr th {\n",
       "        vertical-align: top;\n",
       "    }\n",
       "\n",
       "    .dataframe thead th {\n",
       "        text-align: right;\n",
       "    }\n",
       "</style>\n",
       "<table border=\"1\" class=\"dataframe\">\n",
       "  <thead>\n",
       "    <tr style=\"text-align: right;\">\n",
       "      <th></th>\n",
       "      <th>TV</th>\n",
       "      <th>Radio</th>\n",
       "      <th>Social Media</th>\n",
       "      <th>Influencer</th>\n",
       "      <th>Sales</th>\n",
       "    </tr>\n",
       "  </thead>\n",
       "  <tbody>\n",
       "    <tr>\n",
       "      <th>0</th>\n",
       "      <td>16.000</td>\n",
       "      <td>6.566</td>\n",
       "      <td>2.908</td>\n",
       "      <td>Thuy Tien</td>\n",
       "      <td>54.733</td>\n",
       "    </tr>\n",
       "    <tr>\n",
       "      <th>1</th>\n",
       "      <td>13.000</td>\n",
       "      <td>9.238</td>\n",
       "      <td>2.410</td>\n",
       "      <td>Thuy Tien</td>\n",
       "      <td>46.678</td>\n",
       "    </tr>\n",
       "    <tr>\n",
       "      <th>2</th>\n",
       "      <td>41.000</td>\n",
       "      <td>15.886</td>\n",
       "      <td>2.913</td>\n",
       "      <td>Thuy Tien</td>\n",
       "      <td>150.178</td>\n",
       "    </tr>\n",
       "    <tr>\n",
       "      <th>3</th>\n",
       "      <td>83.000</td>\n",
       "      <td>30.020</td>\n",
       "      <td>6.922</td>\n",
       "      <td>Thuy Tien</td>\n",
       "      <td>298.246</td>\n",
       "    </tr>\n",
       "    <tr>\n",
       "      <th>4</th>\n",
       "      <td>15.000</td>\n",
       "      <td>8.437</td>\n",
       "      <td>1.406</td>\n",
       "      <td>Thuy Linh</td>\n",
       "      <td>56.594</td>\n",
       "    </tr>\n",
       "    <tr>\n",
       "      <th>...</th>\n",
       "      <td>...</td>\n",
       "      <td>...</td>\n",
       "      <td>...</td>\n",
       "      <td>...</td>\n",
       "      <td>...</td>\n",
       "    </tr>\n",
       "    <tr>\n",
       "      <th>4567</th>\n",
       "      <td>26.000</td>\n",
       "      <td>4.472</td>\n",
       "      <td>0.717</td>\n",
       "      <td>Thuy Linh</td>\n",
       "      <td>94.686</td>\n",
       "    </tr>\n",
       "    <tr>\n",
       "      <th>4568</th>\n",
       "      <td>71.000</td>\n",
       "      <td>20.611</td>\n",
       "      <td>6.546</td>\n",
       "      <td>Thuy Dung</td>\n",
       "      <td>249.102</td>\n",
       "    </tr>\n",
       "    <tr>\n",
       "      <th>4569</th>\n",
       "      <td>44.000</td>\n",
       "      <td>19.800</td>\n",
       "      <td>5.096</td>\n",
       "      <td>Thuy Linh</td>\n",
       "      <td>163.631</td>\n",
       "    </tr>\n",
       "    <tr>\n",
       "      <th>4570</th>\n",
       "      <td>71.000</td>\n",
       "      <td>17.535</td>\n",
       "      <td>1.941</td>\n",
       "      <td>Thu Thao</td>\n",
       "      <td>253.610</td>\n",
       "    </tr>\n",
       "    <tr>\n",
       "      <th>4571</th>\n",
       "      <td>42.000</td>\n",
       "      <td>15.967</td>\n",
       "      <td>5.047</td>\n",
       "      <td>Thuy Linh</td>\n",
       "      <td>148.202</td>\n",
       "    </tr>\n",
       "  </tbody>\n",
       "</table>\n",
       "<p>4546 rows × 5 columns</p>\n",
       "</div>"
      ],
      "text/plain": [
       "         TV  Radio  Social Media Influencer   Sales\n",
       "0    16.000  6.566         2.908  Thuy Tien  54.733\n",
       "1    13.000  9.238         2.410  Thuy Tien  46.678\n",
       "2    41.000 15.886         2.913  Thuy Tien 150.178\n",
       "3    83.000 30.020         6.922  Thuy Tien 298.246\n",
       "4    15.000  8.437         1.406  Thuy Linh  56.594\n",
       "...     ...    ...           ...        ...     ...\n",
       "4567 26.000  4.472         0.717  Thuy Linh  94.686\n",
       "4568 71.000 20.611         6.546  Thuy Dung 249.102\n",
       "4569 44.000 19.800         5.096  Thuy Linh 163.631\n",
       "4570 71.000 17.535         1.941   Thu Thao 253.610\n",
       "4571 42.000 15.967         5.047  Thuy Linh 148.202\n",
       "\n",
       "[4546 rows x 5 columns]"
      ]
     },
     "execution_count": 9,
     "metadata": {},
     "output_type": "execute_result"
    }
   ],
   "source": [
    "df.dropna(inplace=True)  # dòng bị missing sẽ bị bỏ nếu dùng lệnh này\n",
    "df"
   ]
  },
  {
   "cell_type": "code",
   "execution_count": 10,
   "id": "ee055f36",
   "metadata": {},
   "outputs": [
    {
     "data": {
      "text/plain": [
       "0"
      ]
     },
     "execution_count": 10,
     "metadata": {},
     "output_type": "execute_result"
    }
   ],
   "source": [
    "df.duplicated().sum() "
   ]
  },
  {
   "cell_type": "code",
   "execution_count": 11,
   "id": "28ae15ab",
   "metadata": {},
   "outputs": [
    {
     "data": {
      "text/plain": [
       "Thuy Tien    1152\n",
       "Thuy Linh    1148\n",
       "Thuy Dung    1134\n",
       "Thu Thao     1112\n",
       "Name: Influencer, dtype: int64"
      ]
     },
     "execution_count": 11,
     "metadata": {},
     "output_type": "execute_result"
    }
   ],
   "source": [
    "df['Influencer'].value_counts()"
   ]
  },
  {
   "cell_type": "code",
   "execution_count": 12,
   "id": "36d42ef8",
   "metadata": {},
   "outputs": [],
   "source": [
    "df = pd.get_dummies(df)"
   ]
  },
  {
   "cell_type": "code",
   "execution_count": 13,
   "id": "c4a75da2",
   "metadata": {},
   "outputs": [
    {
     "data": {
      "text/plain": [
       "Index(['TV', 'Radio', 'Social Media', 'Sales', 'Influencer_Thu Thao',\n",
       "       'Influencer_Thuy Dung', 'Influencer_Thuy Linh', 'Influencer_Thuy Tien'],\n",
       "      dtype='object')"
      ]
     },
     "execution_count": 13,
     "metadata": {},
     "output_type": "execute_result"
    }
   ],
   "source": [
    "df.columns"
   ]
  },
  {
   "cell_type": "code",
   "execution_count": 14,
   "id": "d644af33",
   "metadata": {},
   "outputs": [],
   "source": [
    "\n",
    "cols =['TV', 'Radio', 'Social Media', 'Influencer_Thu Thao',\n",
    "       'Influencer_Thuy Dung', 'Influencer_Thuy Linh', 'Influencer_Thuy Tien','Sales']\n",
    "df = df [cols]"
   ]
  },
  {
   "cell_type": "code",
   "execution_count": 15,
   "id": "dba2bdf1",
   "metadata": {},
   "outputs": [
    {
     "data": {
      "text/html": [
       "<div>\n",
       "<style scoped>\n",
       "    .dataframe tbody tr th:only-of-type {\n",
       "        vertical-align: middle;\n",
       "    }\n",
       "\n",
       "    .dataframe tbody tr th {\n",
       "        vertical-align: top;\n",
       "    }\n",
       "\n",
       "    .dataframe thead th {\n",
       "        text-align: right;\n",
       "    }\n",
       "</style>\n",
       "<table border=\"1\" class=\"dataframe\">\n",
       "  <thead>\n",
       "    <tr style=\"text-align: right;\">\n",
       "      <th></th>\n",
       "      <th>TV</th>\n",
       "      <th>Radio</th>\n",
       "      <th>Social Media</th>\n",
       "      <th>Influencer_Thu Thao</th>\n",
       "      <th>Influencer_Thuy Dung</th>\n",
       "      <th>Influencer_Thuy Linh</th>\n",
       "      <th>Influencer_Thuy Tien</th>\n",
       "      <th>Sales</th>\n",
       "    </tr>\n",
       "  </thead>\n",
       "  <tbody>\n",
       "    <tr>\n",
       "      <th>TV</th>\n",
       "      <td>1.000</td>\n",
       "      <td>0.869</td>\n",
       "      <td>0.528</td>\n",
       "      <td>0.022</td>\n",
       "      <td>-0.004</td>\n",
       "      <td>-0.005</td>\n",
       "      <td>-0.013</td>\n",
       "      <td>0.999</td>\n",
       "    </tr>\n",
       "    <tr>\n",
       "      <th>Radio</th>\n",
       "      <td>0.869</td>\n",
       "      <td>1.000</td>\n",
       "      <td>0.606</td>\n",
       "      <td>0.013</td>\n",
       "      <td>-0.009</td>\n",
       "      <td>0.002</td>\n",
       "      <td>-0.007</td>\n",
       "      <td>0.869</td>\n",
       "    </tr>\n",
       "    <tr>\n",
       "      <th>Social Media</th>\n",
       "      <td>0.528</td>\n",
       "      <td>0.606</td>\n",
       "      <td>1.000</td>\n",
       "      <td>0.014</td>\n",
       "      <td>-0.013</td>\n",
       "      <td>-0.014</td>\n",
       "      <td>0.012</td>\n",
       "      <td>0.527</td>\n",
       "    </tr>\n",
       "    <tr>\n",
       "      <th>Influencer_Thu Thao</th>\n",
       "      <td>0.022</td>\n",
       "      <td>0.013</td>\n",
       "      <td>0.014</td>\n",
       "      <td>1.000</td>\n",
       "      <td>-0.328</td>\n",
       "      <td>-0.331</td>\n",
       "      <td>-0.332</td>\n",
       "      <td>0.022</td>\n",
       "    </tr>\n",
       "    <tr>\n",
       "      <th>Influencer_Thuy Dung</th>\n",
       "      <td>-0.004</td>\n",
       "      <td>-0.009</td>\n",
       "      <td>-0.013</td>\n",
       "      <td>-0.328</td>\n",
       "      <td>1.000</td>\n",
       "      <td>-0.335</td>\n",
       "      <td>-0.336</td>\n",
       "      <td>-0.004</td>\n",
       "    </tr>\n",
       "    <tr>\n",
       "      <th>Influencer_Thuy Linh</th>\n",
       "      <td>-0.005</td>\n",
       "      <td>0.002</td>\n",
       "      <td>-0.014</td>\n",
       "      <td>-0.331</td>\n",
       "      <td>-0.335</td>\n",
       "      <td>1.000</td>\n",
       "      <td>-0.339</td>\n",
       "      <td>-0.005</td>\n",
       "    </tr>\n",
       "    <tr>\n",
       "      <th>Influencer_Thuy Tien</th>\n",
       "      <td>-0.013</td>\n",
       "      <td>-0.007</td>\n",
       "      <td>0.012</td>\n",
       "      <td>-0.332</td>\n",
       "      <td>-0.336</td>\n",
       "      <td>-0.339</td>\n",
       "      <td>1.000</td>\n",
       "      <td>-0.013</td>\n",
       "    </tr>\n",
       "    <tr>\n",
       "      <th>Sales</th>\n",
       "      <td>0.999</td>\n",
       "      <td>0.869</td>\n",
       "      <td>0.527</td>\n",
       "      <td>0.022</td>\n",
       "      <td>-0.004</td>\n",
       "      <td>-0.005</td>\n",
       "      <td>-0.013</td>\n",
       "      <td>1.000</td>\n",
       "    </tr>\n",
       "  </tbody>\n",
       "</table>\n",
       "</div>"
      ],
      "text/plain": [
       "                         TV  Radio  Social Media  Influencer_Thu Thao  \\\n",
       "TV                    1.000  0.869         0.528                0.022   \n",
       "Radio                 0.869  1.000         0.606                0.013   \n",
       "Social Media          0.528  0.606         1.000                0.014   \n",
       "Influencer_Thu Thao   0.022  0.013         0.014                1.000   \n",
       "Influencer_Thuy Dung -0.004 -0.009        -0.013               -0.328   \n",
       "Influencer_Thuy Linh -0.005  0.002        -0.014               -0.331   \n",
       "Influencer_Thuy Tien -0.013 -0.007         0.012               -0.332   \n",
       "Sales                 0.999  0.869         0.527                0.022   \n",
       "\n",
       "                      Influencer_Thuy Dung  Influencer_Thuy Linh  \\\n",
       "TV                                  -0.004                -0.005   \n",
       "Radio                               -0.009                 0.002   \n",
       "Social Media                        -0.013                -0.014   \n",
       "Influencer_Thu Thao                 -0.328                -0.331   \n",
       "Influencer_Thuy Dung                 1.000                -0.335   \n",
       "Influencer_Thuy Linh                -0.335                 1.000   \n",
       "Influencer_Thuy Tien                -0.336                -0.339   \n",
       "Sales                               -0.004                -0.005   \n",
       "\n",
       "                      Influencer_Thuy Tien  Sales  \n",
       "TV                                  -0.013  0.999  \n",
       "Radio                               -0.007  0.869  \n",
       "Social Media                         0.012  0.527  \n",
       "Influencer_Thu Thao                 -0.332  0.022  \n",
       "Influencer_Thuy Dung                -0.336 -0.004  \n",
       "Influencer_Thuy Linh                -0.339 -0.005  \n",
       "Influencer_Thuy Tien                 1.000 -0.013  \n",
       "Sales                               -0.013  1.000  "
      ]
     },
     "execution_count": 15,
     "metadata": {},
     "output_type": "execute_result"
    }
   ],
   "source": [
    "df.corr()"
   ]
  },
  {
   "cell_type": "code",
   "execution_count": 16,
   "id": "5e85b865",
   "metadata": {},
   "outputs": [
    {
     "data": {
      "image/png": "[encoded data removed]",
      "text/plain": [
       "<Figure size 432x288 with 1 Axes>"
      ]
     },
     "metadata": {
      "needs_background": "light"
     },
     "output_type": "display_data"
    }
   ],
   "source": [
    "fig, ax = plt.subplots(figsize =(6,4))\n",
    "sns.heatmap(data =df.corr(),annot =True, cbar=False)\n",
    "plt.show()"
   ]
  },
  {
   "cell_type": "markdown",
   "id": "6ad0ef2c",
   "metadata": {},
   "source": [
    "# 4. Xử lý giá trị ngoại lai"
   ]
  },
  {
   "cell_type": "code",
   "execution_count": 72,
   "id": "1da08500",
   "metadata": {},
   "outputs": [
    {
     "data": {
      "image/png": "[encoded data removed]",
      "text/plain": [
       "<Figure size 576x432 with 8 Axes>"
      ]
     },
     "metadata": {
      "needs_background": "light"
     },
     "output_type": "display_data"
    }
   ],
   "source": [
    "fig, ax = plt.subplots(4,2 ,figsize =(8,6))\n",
    "sns.histplot(data =df, x=\"TV\", ax=ax[0,0], kde=True, color='red')\n",
    "ax[0,0].set_title(\"TV\")\n",
    "ax[0,1].set_title(\"TV\")\n",
    "sns.boxplot(data=df , x=\"TV\", ax =ax[0,1], color='orange')\n",
    "sns.histplot(data =df, x=\"Radio\", ax=ax[1,0], kde=True, color= 'forestgreen')\n",
    "ax[1,1].set_title(\"Radio\")\n",
    "ax[1,0].set_title(\"Radio\")\n",
    "sns.boxplot(data=df , x=\"Radio\", ax =ax[1,1], color ='purple')\n",
    "\n",
    "sns.histplot(data =df, x=\"Social Media\", ax=ax[2,0], kde=True, color='hotpink')\n",
    "ax[2,1].set_title(\"Social Media\")\n",
    "ax[2,0].set_title(\"Social Media\")\n",
    "sns.boxplot(data=df , x=\"Social Media\", ax =ax[2,1], color='blue')\n",
    "\n",
    "sns.histplot(data =df, x=\"Sales\", ax=ax[3,0], kde=True, color='olive')\n",
    "ax[3,1].set_title(\"Sales\")\n",
    "ax[3,0].set_title(\"Sales\")\n",
    "sns.boxplot(data=df , x=\"Sales\", ax =ax[3,1], color='teal')\n",
    "plt.tight_layout()\n",
    "plt.show()"
   ]
  },
  {
   "cell_type": "code",
   "execution_count": 69,
   "id": "4bd18eda",
   "metadata": {},
   "outputs": [],
   "source": [
    "scaler = StandardScaler() # Xác định pp chuẩn hóa nào\n",
    "normalized_df=scaler.fit_transform(df[['TV','Radio','Social Media','Sales']])\n"
   ]
  },
  {
   "cell_type": "code",
   "execution_count": 19,
   "id": "98daf66c",
   "metadata": {},
   "outputs": [],
   "source": [
    "normalized_df  = pd.DataFrame({\"TV\": normalized_df[:,0],\n",
    "                            \"Radio\": normalized_df[:,1],\n",
    "                            \"Social Media\": normalized_df[:,2],\n",
    "                               \"Influencer_Thu Thao\": df['Influencer_Thu Thao'],\n",
    "                               \"Influencer_Thuy Dung\": df['Influencer_Thuy Dung'],\n",
    "                               \"Influencer_Thuy Linh\": df['Influencer_Thuy Linh'],\n",
    "                               \"Influencer_Thuy Tien\": df['Influencer_Thuy Tien'],\n",
    "                               \"Sales\": normalized_df[:,3]}) "
   ]
  },
  {
   "cell_type": "markdown",
   "id": "d29c5c52",
   "metadata": {},
   "source": [
    "# 5.Chia tập dữ liệu thành tập huấn luyện và kiểm tra"
   ]
  },
  {
   "cell_type": "code",
   "execution_count": 20,
   "id": "17ea2726",
   "metadata": {},
   "outputs": [
    {
     "data": {
      "text/plain": [
       "Index(['TV', 'Radio', 'Social Media', 'Influencer_Thu Thao',\n",
       "       'Influencer_Thuy Dung', 'Influencer_Thuy Linh', 'Influencer_Thuy Tien',\n",
       "       'Sales'],\n",
       "      dtype='object')"
      ]
     },
     "execution_count": 20,
     "metadata": {},
     "output_type": "execute_result"
    }
   ],
   "source": [
    "normalized_df.columns"
   ]
  },
  {
   "cell_type": "code",
   "execution_count": 21,
   "id": "73cd1291",
   "metadata": {},
   "outputs": [],
   "source": [
    "y = normalized_df['Sales']\n",
    "X = normalized_df[['TV', 'Radio', 'Social Media', 'Influencer_Thu Thao',\n",
    "       'Influencer_Thuy Dung', 'Influencer_Thuy Linh', 'Influencer_Thuy Tien']]"
   ]
  },
  {
   "cell_type": "code",
   "execution_count": 46,
   "id": "19d4d733",
   "metadata": {},
   "outputs": [
    {
     "data": {
      "text/plain": [
       "((3182, 7), (1364, 7), (3182,), (1364,))"
      ]
     },
     "execution_count": 46,
     "metadata": {},
     "output_type": "execute_result"
    }
   ],
   "source": [
    "X_train, X_test, y_train, y_test = train_test_split(X,y,test_size= 0.3, random_state=45)\n",
    "X_train.shape, X_test.shape, y_train.shape, y_test.shape"
   ]
  },
  {
   "cell_type": "markdown",
   "id": "7d9b7a35",
   "metadata": {},
   "source": [
    "# 6. Xác định và ước tính mô hình hồi quy tuyến tính bằng cách sử dụng tập dữ liệu huấn luyện với các biến độc lập và 01 biến phụ thuộc"
   ]
  },
  {
   "cell_type": "code",
   "execution_count": 47,
   "id": "9f44a360",
   "metadata": {},
   "outputs": [
    {
     "data": {
      "text/plain": [
       "LinearRegression()"
      ]
     },
     "execution_count": 47,
     "metadata": {},
     "output_type": "execute_result"
    }
   ],
   "source": [
    "model = LinearRegression(fit_intercept = True)\n",
    "model.fit(X_train, y_train) # ước tính tham số của mô hình"
   ]
  },
  {
   "cell_type": "markdown",
   "id": "7b7c4853",
   "metadata": {},
   "source": [
    "# 7. Biểu diễn trực quan mô hình với dữ liệu kiểm tra"
   ]
  },
  {
   "cell_type": "code",
   "execution_count": 48,
   "id": "59d73641",
   "metadata": {},
   "outputs": [
    {
     "data": {
      "image/png": "[encoded data removed]",
      "text/plain": [
       "<Figure size 288x288 with 1 Axes>"
      ]
     },
     "metadata": {
      "needs_background": "light"
     },
     "output_type": "display_data"
    }
   ],
   "source": [
    "y_pred = model.predict(X_test)\n",
    "\n",
    "fig, ax = plt.subplots(figsize=(4,4))\n",
    "ax.scatter(y_test, y_pred,color='b')\n",
    "ax.set_xlabel(\"Test\")\n",
    "ax.set_ylabel(\"Predicted\")\n",
    "plt.show()"
   ]
  },
  {
   "cell_type": "markdown",
   "id": "bd15f3b3",
   "metadata": {},
   "source": [
    "# 8.Đánh giá hiệu quả của mô hình bằng cách sử dụng tập dữ liệu kiểm tra, sử dụng các số liệu như R bình thường trung bình"
   ]
  },
  {
   "cell_type": "code",
   "execution_count": 49,
   "id": "8174bef5",
   "metadata": {},
   "outputs": [
    {
     "name": "stdout",
     "output_type": "stream",
     "text": [
      "Train score of trained model: 99.89961870708373%\n",
      "Test score of trained model: 99.89917410532348%\n"
     ]
    }
   ],
   "source": [
    "# Độ chính xác của mô hình\n",
    "train_score = model.score(X_train, y_train)\n",
    "test_score = model.score(X_test, y_test)\n",
    "print(f'Train score of trained model: {train_score*100}%')\n",
    "print(f'Test score of trained model: {test_score*100}%')"
   ]
  },
  {
   "cell_type": "markdown",
   "id": "4b15646b",
   "metadata": {},
   "source": [
    "# Nhận xét\n",
    "# Train score và Test score xấp xỉ 100% cho thấy mô hình có độ chính xác rất cao, độ tin cậy cũng cao "
   ]
  },
  {
   "cell_type": "code",
   "execution_count": 50,
   "id": "34530db7",
   "metadata": {},
   "outputs": [],
   "source": [
    "n = X_test.shape[0]   # Số quan sát trong tập dữ liẹu kiểm tra\n",
    "k = X_test.shape[1]   # Số biến độc lập trong mô hình \n",
    "\n",
    "MSE = mean_squared_error(y_test, y_pred)\n",
    "\n",
    "MAE = mean_absolute_error(y_test, y_pred)               \n",
    "\n",
    "r2 = r2_score(y_test, y_pred)\n",
    "adj_r2 = 1-(1-r2)*(n-1)/(n-k-1) "
   ]
  },
  {
   "cell_type": "code",
   "execution_count": 51,
   "id": "a35ef566",
   "metadata": {},
   "outputs": [
    {
     "data": {
      "text/html": [
       "<div>\n",
       "<style scoped>\n",
       "    .dataframe tbody tr th:only-of-type {\n",
       "        vertical-align: middle;\n",
       "    }\n",
       "\n",
       "    .dataframe tbody tr th {\n",
       "        vertical-align: top;\n",
       "    }\n",
       "\n",
       "    .dataframe thead th {\n",
       "        text-align: right;\n",
       "    }\n",
       "</style>\n",
       "<table border=\"1\" class=\"dataframe\">\n",
       "  <thead>\n",
       "    <tr style=\"text-align: right;\">\n",
       "      <th></th>\n",
       "      <th>Metric</th>\n",
       "      <th>Score</th>\n",
       "    </tr>\n",
       "  </thead>\n",
       "  <tbody>\n",
       "    <tr>\n",
       "      <th>0</th>\n",
       "      <td>MSE</td>\n",
       "      <td>0.001</td>\n",
       "    </tr>\n",
       "    <tr>\n",
       "      <th>1</th>\n",
       "      <td>MAE</td>\n",
       "      <td>0.026</td>\n",
       "    </tr>\n",
       "    <tr>\n",
       "      <th>2</th>\n",
       "      <td>r2</td>\n",
       "      <td>0.999</td>\n",
       "    </tr>\n",
       "    <tr>\n",
       "      <th>3</th>\n",
       "      <td>adj_r2</td>\n",
       "      <td>0.999</td>\n",
       "    </tr>\n",
       "  </tbody>\n",
       "</table>\n",
       "</div>"
      ],
      "text/plain": [
       "   Metric  Score\n",
       "0     MSE  0.001\n",
       "1     MAE  0.026\n",
       "2      r2  0.999\n",
       "3  adj_r2  0.999"
      ]
     },
     "execution_count": 51,
     "metadata": {},
     "output_type": "execute_result"
    }
   ],
   "source": [
    "scores = [MSE, MAE, r2, adj_r2]\n",
    "metrics = ['MSE', 'MAE', 'r2','adj_r2']\n",
    "model_performance = pd.DataFrame({'Metric': metrics, 'Score':\n",
    "                                 scores})\n",
    "model_performance"
   ]
  },
  {
   "cell_type": "markdown",
   "id": "706db526",
   "metadata": {},
   "source": [
    "# Nhận xét: Các biến độc lập giải thích được 99,9 % sự thay đổi của biến phụ thuộc"
   ]
  },
  {
   "cell_type": "markdown",
   "id": "5c19dfb6",
   "metadata": {},
   "source": [
    "# 9. Giải thích các kết quả của mô hình hồi quy , bao gồm các ước tính hệ số và ý nghĩa của chúng"
   ]
  },
  {
   "cell_type": "code",
   "execution_count": 52,
   "id": "fbe2c186",
   "metadata": {},
   "outputs": [
    {
     "name": "stdout",
     "output_type": "stream",
     "text": [
      "Coefficient:  [0.9998729890417966, -0.00013665820167260944, -0.00022942592358726237, 0.001016115115390331, -0.0005430169187790946, -0.0009145758292162451, 0.0004414776326051048]\n",
      "Intercept:  -9.313494140416982e-05\n",
      "Mô hình:\n",
      "Sales = 1.00*TV + -0.00*Radio + -0.00*Social media + 0.00* Influencer_Thu Thao + -0.00*Influencer_Thuy Dung + -0.00* Influencer_Thuy Linh + 0.00*Influencer_Thuy Tien + -0.00\n"
     ]
    }
   ],
   "source": [
    "print(\"Coefficient: \", [model.coef_[0], model.coef_[1], model.coef_[2], model.coef_[3], model.coef_[4], model.coef_[5], model.coef_[6]])\n",
    "print(\"Intercept: \",model.intercept_)\n",
    "print(\"Mô hình:\")\n",
    "print(f\"Sales = {model.coef_[0]:.2f}*TV + {model.coef_[1]:.2f}*Radio + {model.coef_[2]:.2f}*Social media + {model.coef_[3]:.2f}* Influencer_Thu Thao + {model.coef_[4]:.2f}*Influencer_Thuy Dung + {model.coef_[5]:.2f}* Influencer_Thuy Linh + {model.coef_[6]:.2f}*Influencer_Thuy Tien + {model.intercept_:.2f}\")"
   ]
  },
  {
   "cell_type": "markdown",
   "id": "677e8239",
   "metadata": {},
   "source": [
    "## - Mô hình trên cho ta thấy các biến có ảnh hưởng thế nào đến doanh số, nếu hệ sô dương sẽ làm tăng doanh số bán hàng, nếu hệ số âm sẽ chỉ ra điều ngược lại\n",
    "## - Mô hình trên giúp ta dự đoán, để đưa ra sự đầu tư hợp lý cho từng loại chi phí và khả năng cắt giảm nếu có thể của chúng.\n",
    "## - Mô hình cũng cho thấy biến TV có ảnh hưởng đáng kể đến Sales"
   ]
  },
  {
   "cell_type": "markdown",
   "id": "ec0d61ee",
   "metadata": {},
   "source": [
    "# 10. Sử dụng mô hình"
   ]
  },
  {
   "cell_type": "markdown",
   "id": "86874de1",
   "metadata": {},
   "source": [
    "## - Một công ty có thể sử dụng mô hình này để xác định số tiền họ nên chi tiêu cho mỗi kênh quảng cáo nhằm tối đa hóa doanh số bán hàng của họ. Họ có thể nhập chi tiêu quảng cáo theo kế hoạch của mình vào mô hình và sử dụng kết quả doanh số bán hàng dự đoán để cung cấp thông tin cho quá trình ra quyết định của họ.\n",
    "## - Tuy nhiên, điều quan trọng cần lưu ý là mô hình giả định mối quan hệ tuyến tính giữa các biến dự đoán và biến phụ thuộc và điều này có thể không phải lúc nào cũng đúng trong thực tế. Ngoài ra, việc giải thích các hệ số cần được thực hiện một cách thận trọng và trong bối cảnh của mô hình và dữ liệu cụ thể đang được phân tích"
   ]
  }
 ],
 "metadata": {
  "kernelspec": {
   "display_name": "Python 3 (ipykernel)",
   "language": "python",
   "name": "python3"
  },
  "language_info": {
   "codemirror_mode": {
    "name": "ipython",
    "version": 3
   },
   "file_extension": ".py",
   "mimetype": "text/x-python",
   "name": "python",
   "nbconvert_exporter": "python",
   "pygments_lexer": "ipython3",
   "version": "3.10.9"
  }
 },
 "nbformat": 4,
 "nbformat_minor": 5
}
